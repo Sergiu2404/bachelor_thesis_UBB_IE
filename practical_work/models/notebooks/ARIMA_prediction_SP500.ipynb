{
  "nbformat": 4,
  "nbformat_minor": 0,
  "metadata": {
    "colab": {
      "provenance": [],
      "gpuType": "T4"
    },
    "kernelspec": {
      "name": "python3",
      "display_name": "Python 3"
    },
    "language_info": {
      "name": "python"
    },
    "accelerator": "GPU"
  },
  "cells": [
    {
      "cell_type": "code",
      "source": [
        "!pip install pmdarima"
      ],
      "metadata": {
        "colab": {
          "base_uri": "https://localhost:8080/"
        },
        "id": "ilLC0K4dpO3f",
        "outputId": "6077bad8-6dc1-4ce7-b012-51a6e9de1b13"
      },
      "execution_count": 2,
      "outputs": [
        {
          "output_type": "stream",
          "name": "stdout",
          "text": [
            "Collecting pmdarima\n",
            "  Downloading pmdarima-2.0.4-cp311-cp311-manylinux_2_17_x86_64.manylinux2014_x86_64.manylinux_2_28_x86_64.whl.metadata (7.8 kB)\n",
            "Requirement already satisfied: joblib>=0.11 in /usr/local/lib/python3.11/dist-packages (from pmdarima) (1.4.2)\n",
            "Requirement already satisfied: Cython!=0.29.18,!=0.29.31,>=0.29 in /usr/local/lib/python3.11/dist-packages (from pmdarima) (3.0.12)\n",
            "Requirement already satisfied: numpy>=1.21.2 in /usr/local/lib/python3.11/dist-packages (from pmdarima) (1.26.4)\n",
            "Requirement already satisfied: pandas>=0.19 in /usr/local/lib/python3.11/dist-packages (from pmdarima) (2.2.2)\n",
            "Requirement already satisfied: scikit-learn>=0.22 in /usr/local/lib/python3.11/dist-packages (from pmdarima) (1.6.1)\n",
            "Requirement already satisfied: scipy>=1.3.2 in /usr/local/lib/python3.11/dist-packages (from pmdarima) (1.14.1)\n",
            "Requirement already satisfied: statsmodels>=0.13.2 in /usr/local/lib/python3.11/dist-packages (from pmdarima) (0.14.4)\n",
            "Requirement already satisfied: urllib3 in /usr/local/lib/python3.11/dist-packages (from pmdarima) (2.3.0)\n",
            "Requirement already satisfied: setuptools!=50.0.0,>=38.6.0 in /usr/local/lib/python3.11/dist-packages (from pmdarima) (75.1.0)\n",
            "Requirement already satisfied: packaging>=17.1 in /usr/local/lib/python3.11/dist-packages (from pmdarima) (24.2)\n",
            "Requirement already satisfied: python-dateutil>=2.8.2 in /usr/local/lib/python3.11/dist-packages (from pandas>=0.19->pmdarima) (2.8.2)\n",
            "Requirement already satisfied: pytz>=2020.1 in /usr/local/lib/python3.11/dist-packages (from pandas>=0.19->pmdarima) (2025.1)\n",
            "Requirement already satisfied: tzdata>=2022.7 in /usr/local/lib/python3.11/dist-packages (from pandas>=0.19->pmdarima) (2025.1)\n",
            "Requirement already satisfied: threadpoolctl>=3.1.0 in /usr/local/lib/python3.11/dist-packages (from scikit-learn>=0.22->pmdarima) (3.5.0)\n",
            "Requirement already satisfied: patsy>=0.5.6 in /usr/local/lib/python3.11/dist-packages (from statsmodels>=0.13.2->pmdarima) (1.0.1)\n",
            "Requirement already satisfied: six>=1.5 in /usr/local/lib/python3.11/dist-packages (from python-dateutil>=2.8.2->pandas>=0.19->pmdarima) (1.17.0)\n",
            "Downloading pmdarima-2.0.4-cp311-cp311-manylinux_2_17_x86_64.manylinux2014_x86_64.manylinux_2_28_x86_64.whl (2.2 MB)\n",
            "\u001b[2K   \u001b[90m━━━━━━━━━━━━━━━━━━━━━━━━━━━━━━━━━━━━━━━━\u001b[0m \u001b[32m2.2/2.2 MB\u001b[0m \u001b[31m31.4 MB/s\u001b[0m eta \u001b[36m0:00:00\u001b[0m\n",
            "\u001b[?25hInstalling collected packages: pmdarima\n",
            "Successfully installed pmdarima-2.0.4\n"
          ]
        }
      ]
    },
    {
      "cell_type": "code",
      "execution_count": 4,
      "metadata": {
        "id": "LX60UuhaZqqH"
      },
      "outputs": [],
      "source": [
        "\n",
        "import os\n",
        "import joblib\n",
        "from datetime import datetime, timedelta\n",
        "from pmdarima import auto_arima\n",
        "from sklearn.metrics import mean_squared_error\n",
        "import pandas as pd\n",
        "import numpy as np\n",
        "import yfinance as yf\n",
        "import random"
      ]
    },
    {
      "cell_type": "code",
      "source": [
        "def fetch_stock_data(ticker, train_start='2010-01-01', train_end='2020-12-31',\n",
        "                     val_start='2021-01-01', val_end='2023-01-01'):\n",
        "    \"\"\"\n",
        "    Fetch stock data for the given ticker and timeframes\n",
        "    \"\"\"\n",
        "    if ticker is None:\n",
        "        raise ValueError(\"Ticker symbol not provided.\")\n",
        "\n",
        "    data = yf.download(ticker, start=train_start, end=val_end)\n",
        "    data = data.asfreq('B')\n",
        "    data = data.ffill().bfill()\n",
        "    training_data = data['Close'][train_start:train_end]\n",
        "    validation_data = data['Close'][val_start:val_end]\n",
        "\n",
        "    return ticker, data, training_data, validation_data\n",
        "\n",
        "def build_and_train_model(training_data, validation_data):\n",
        "    \"\"\"\n",
        "    Build and train an ARIMA model on the provided training data and validate it\n",
        "    \"\"\"\n",
        "    print(\"Finding best ARIMA parameters with auto_arima\")\n",
        "    model = auto_arima(training_data, seasonal=False, trace=True,\n",
        "                       error_action='ignore', suppress_warnings=True)\n",
        "\n",
        "    predictions = model.predict(n_periods=len(validation_data))\n",
        "    mse = mean_squared_error(validation_data, predictions)\n",
        "    rmse = np.sqrt(mse)\n",
        "    print(f\"Validation RMSE: {rmse:.2f}\")\n",
        "\n",
        "    return model, predictions\n",
        "\n",
        "def update_model_with_all_data(model, data):\n",
        "    \"\"\"\n",
        "    Update the model with all available data\n",
        "    \"\"\"\n",
        "    all_data = data['Close'].asfreq('B').ffill().bfill()\n",
        "    model.update(all_data)\n",
        "    return model\n",
        "\n",
        "def predict_next_12_months(model, data, ticker):\n",
        "    \"\"\"\n",
        "    Predict stock prices for the next 12 months\n",
        "    \"\"\"\n",
        "    if model is None or data is None:\n",
        "        raise ValueError(\"Model has not been trained or data is not loaded\")\n",
        "\n",
        "    last_date = data.index[-1]\n",
        "    future_dates = pd.date_range(start=last_date + pd.Timedelta(days=1),\n",
        "                                 periods=252, freq='B')\n",
        "    predictions = model.predict(n_periods=252)\n",
        "\n",
        "    # Introduce a small bias to integrate volatility\n",
        "    for i in range(1, len(predictions)):\n",
        "        if predictions[i] > predictions[i - 1]:\n",
        "            predictions[i] *= 1.01\n",
        "        else:\n",
        "            predictions[i] *= 0.99\n",
        "\n",
        "    future_predictions = pd.Series(predictions, index=future_dates)\n",
        "\n",
        "    monthly_indices = pd.date_range(start=future_dates.min(), end=future_dates.max(), freq='ME')\n",
        "    monthly_predictions = [future_predictions.loc[future_predictions.index[\n",
        "        future_predictions.index.get_indexer([date], method='nearest')[0]]] for date in monthly_indices]\n",
        "\n",
        "    return monthly_predictions, monthly_indices\n",
        "\n",
        "def predict_next_5_years(model, data, ticker):\n",
        "    \"\"\"\n",
        "    Predict stock prices for the next 5 years\n",
        "    \"\"\"\n",
        "    if model is None or data is None:\n",
        "        raise ValueError(\"Model has not been trained or data is not loaded\")\n",
        "\n",
        "    last_date = data.index[-1]\n",
        "    # 252 business days / year\n",
        "    future_periods = 252 * 5\n",
        "    future_dates = pd.date_range(start=last_date + pd.Timedelta(days=1),\n",
        "                                 periods=future_periods, freq='B')\n",
        "    predictions = model.predict(n_periods=future_periods)\n",
        "\n",
        "    # introduce a small bias to integrate volatility\n",
        "    for i in range(1, len(predictions)):\n",
        "        if predictions[i] > predictions[i - 1]:\n",
        "            predictions[i] *= 1.001\n",
        "        else:\n",
        "            predictions[i] *= 0.999\n",
        "\n",
        "    future_predictions = pd.Series(predictions, index=future_dates)\n",
        "\n",
        "    # Generate monthly indices over the 5-year period\n",
        "    monthly_indices = pd.date_range(start=future_dates.min(), end=future_dates.max(), freq='M')\n",
        "    monthly_predictions = [future_predictions.loc[future_predictions.index[\n",
        "        future_predictions.index.get_indexer([date], method='nearest')[0]]] for date in monthly_indices]\n",
        "\n",
        "    return monthly_predictions, monthly_indices\n",
        "\n",
        "def print_monthly_predictions(predictions, future_dates, ticker):\n",
        "    \"\"\"\n",
        "    Print the monthly predictions in a formatted table\n",
        "    \"\"\"\n",
        "    print(f\"\\n{ticker} Monthly Price Predictions:\")\n",
        "    print(\"-\" * 40)\n",
        "    print(f\"{'Month':<15} {'Predicted Price':<15}\")\n",
        "    print(\"-\" * 40)\n",
        "    for i in range(len(predictions)):\n",
        "        month_str = future_dates[i].strftime('%b %Y')\n",
        "        price_str = f\"${predictions[i]:.2f}\"\n",
        "        print(f\"{month_str:<15} {price_str:<15}\")\n",
        "\n",
        "def adjust_predictions_with_sentiment(predictions, weighted_sentiment_score):\n",
        "    \"\"\"\n",
        "    Adjust price predictions based on sentiment analysis\n",
        "    \"\"\"\n",
        "    adjusted_predictions = []\n",
        "    score_intervals = {\n",
        "        (-1, -0.75): (0.15, 0.2),\n",
        "        (-0.75, -0.2): (0.1, 0.15),\n",
        "        (-0.2, 0.2): (0.02, 0.1),\n",
        "        (0.2, 0.75): (0.1, 0.15),\n",
        "        (0.75, 1): (0.15, 0.2)\n",
        "    }\n",
        "    initial_impact_factor = 0.01\n",
        "\n",
        "    for (low, high), impact in score_intervals.items():\n",
        "        if low <= weighted_sentiment_score <= high:\n",
        "            initial_impact_factor = random.uniform(impact[0], impact[1])\n",
        "\n",
        "    for i, prediction in enumerate(predictions):\n",
        "        # use exponential decay for a gradual decrease of the impact over the months\n",
        "        gradual_impact = initial_impact_factor * (0.6 ** i)\n",
        "        adjusted_prediction = prediction * (1 + weighted_sentiment_score * gradual_impact)\n",
        "        adjusted_predictions.append(adjusted_prediction)\n",
        "\n",
        "    return adjusted_predictions\n",
        "\n",
        "def run_stock_prediction(ticker, data, training_data, validation_data):\n",
        "    \"\"\"\n",
        "    Run the complete stock prediction pipeline for a given ticker\n",
        "    \"\"\"\n",
        "    print(f\"Processing {ticker} stock prediction\")\n",
        "\n",
        "    print(\"Training ARIMA model\")\n",
        "    model, val_predictions = build_and_train_model(training_data, validation_data)\n",
        "\n",
        "    model = update_model_with_all_data(model, data)\n",
        "\n",
        "    print(\"Predicting prices for the next 12 months...\")\n",
        "    predictions, future_dates = predict_next_12_months(model, data, ticker)\n",
        "\n",
        "    return predictions, future_dates\n",
        "\n",
        "def run_stock_prediction_with_sentiment(ticker, weighted_sentiment_score):\n",
        "    \"\"\"\n",
        "    Run the complete stock prediction pipeline with sentiment adjustment\n",
        "    \"\"\"\n",
        "    ticker, data, training_data, validation_data = fetch_stock_data(ticker)\n",
        "\n",
        "    model, _ = build_and_train_model(training_data, validation_data)\n",
        "\n",
        "    model = update_model_with_all_data(model, data)\n",
        "\n",
        "    predictions, future_dates = predict_next_12_months(model, data, ticker)\n",
        "\n",
        "    adjusted_predictions = adjust_predictions_with_sentiment(predictions, weighted_sentiment_score)\n",
        "\n",
        "    return adjusted_predictions, future_dates\n"
      ],
      "metadata": {
        "id": "6JLmGqnFZtcY"
      },
      "execution_count": 5,
      "outputs": []
    },
    {
      "cell_type": "code",
      "source": [
        "print(\"Training on S&P 500 data...\")\n",
        "ticker_sp500 = \"^GSPC\"\n",
        "_, sp500_data, sp500_training_data, sp500_validation_data = fetch_stock_data(ticker_sp500)"
      ],
      "metadata": {
        "colab": {
          "base_uri": "https://localhost:8080/"
        },
        "id": "D8AiH622qbUL",
        "outputId": "08bcfa2c-4235-4f2b-f350-359a48593d67"
      },
      "execution_count": 14,
      "outputs": [
        {
          "output_type": "stream",
          "name": "stderr",
          "text": [
            "\r[*********************100%***********************]  1 of 1 completed"
          ]
        },
        {
          "output_type": "stream",
          "name": "stdout",
          "text": [
            "Training on S&P 500 data...\n"
          ]
        },
        {
          "output_type": "stream",
          "name": "stderr",
          "text": [
            "\n"
          ]
        }
      ]
    },
    {
      "cell_type": "code",
      "source": [
        "print(\"Training on S&P 500 data...\")\n",
        "ticker_sp500 = \"^GSPC\"\n",
        "_, sp500_data, sp500_training_data, sp500_validation_data = fetch_stock_data(ticker_sp500)\n",
        "\n",
        "sp500_model, sp500_val_predictions = build_and_train_model(sp500_training_data, sp500_validation_data)\n",
        "\n",
        "sp500_model = update_model_with_all_data(sp500_model, sp500_data)\n",
        "\n",
        "print(\"S&P 500 model has been successfully trained\")"
      ],
      "metadata": {
        "colab": {
          "base_uri": "https://localhost:8080/"
        },
        "id": "2z-_QIhDqjwZ",
        "outputId": "53bcd585-d6dc-401e-8db8-a23a0ab00c6a"
      },
      "execution_count": 15,
      "outputs": [
        {
          "output_type": "stream",
          "name": "stderr",
          "text": [
            "\r[*********************100%***********************]  1 of 1 completed"
          ]
        },
        {
          "output_type": "stream",
          "name": "stdout",
          "text": [
            "Training on S&P 500 data...\n",
            "Finding best ARIMA parameters with auto_arima\n",
            "Performing stepwise search to minimize aic\n"
          ]
        },
        {
          "output_type": "stream",
          "name": "stderr",
          "text": [
            "\n",
            "/usr/local/lib/python3.11/dist-packages/sklearn/utils/deprecation.py:151: FutureWarning: 'force_all_finite' was renamed to 'ensure_all_finite' in 1.6 and will be removed in 1.8.\n",
            "  warnings.warn(\n",
            "/usr/local/lib/python3.11/dist-packages/sklearn/utils/deprecation.py:151: FutureWarning: 'force_all_finite' was renamed to 'ensure_all_finite' in 1.6 and will be removed in 1.8.\n",
            "  warnings.warn(\n",
            "/usr/local/lib/python3.11/dist-packages/sklearn/utils/deprecation.py:151: FutureWarning: 'force_all_finite' was renamed to 'ensure_all_finite' in 1.6 and will be removed in 1.8.\n",
            "  warnings.warn(\n",
            "/usr/local/lib/python3.11/dist-packages/sklearn/utils/deprecation.py:151: FutureWarning: 'force_all_finite' was renamed to 'ensure_all_finite' in 1.6 and will be removed in 1.8.\n",
            "  warnings.warn(\n",
            "/usr/local/lib/python3.11/dist-packages/sklearn/utils/deprecation.py:151: FutureWarning: 'force_all_finite' was renamed to 'ensure_all_finite' in 1.6 and will be removed in 1.8.\n",
            "  warnings.warn(\n",
            "/usr/local/lib/python3.11/dist-packages/sklearn/utils/deprecation.py:151: FutureWarning: 'force_all_finite' was renamed to 'ensure_all_finite' in 1.6 and will be removed in 1.8.\n",
            "  warnings.warn(\n",
            "/usr/local/lib/python3.11/dist-packages/sklearn/utils/deprecation.py:151: FutureWarning: 'force_all_finite' was renamed to 'ensure_all_finite' in 1.6 and will be removed in 1.8.\n",
            "  warnings.warn(\n",
            "/usr/local/lib/python3.11/dist-packages/sklearn/utils/deprecation.py:151: FutureWarning: 'force_all_finite' was renamed to 'ensure_all_finite' in 1.6 and will be removed in 1.8.\n",
            "  warnings.warn(\n",
            "/usr/local/lib/python3.11/dist-packages/sklearn/utils/deprecation.py:151: FutureWarning: 'force_all_finite' was renamed to 'ensure_all_finite' in 1.6 and will be removed in 1.8.\n",
            "  warnings.warn(\n"
          ]
        },
        {
          "output_type": "stream",
          "name": "stdout",
          "text": [
            " ARIMA(2,1,2)(0,0,0)[0] intercept   : AIC=26323.885, Time=3.20 sec\n",
            " ARIMA(0,1,0)(0,0,0)[0] intercept   : AIC=26450.647, Time=0.11 sec\n"
          ]
        },
        {
          "output_type": "stream",
          "name": "stderr",
          "text": [
            "/usr/local/lib/python3.11/dist-packages/sklearn/utils/deprecation.py:151: FutureWarning: 'force_all_finite' was renamed to 'ensure_all_finite' in 1.6 and will be removed in 1.8.\n",
            "  warnings.warn(\n",
            "/usr/local/lib/python3.11/dist-packages/sklearn/utils/deprecation.py:151: FutureWarning: 'force_all_finite' was renamed to 'ensure_all_finite' in 1.6 and will be removed in 1.8.\n",
            "  warnings.warn(\n"
          ]
        },
        {
          "output_type": "stream",
          "name": "stdout",
          "text": [
            " ARIMA(1,1,0)(0,0,0)[0] intercept   : AIC=26360.584, Time=0.19 sec\n"
          ]
        },
        {
          "output_type": "stream",
          "name": "stderr",
          "text": [
            "/usr/local/lib/python3.11/dist-packages/sklearn/utils/deprecation.py:151: FutureWarning: 'force_all_finite' was renamed to 'ensure_all_finite' in 1.6 and will be removed in 1.8.\n",
            "  warnings.warn(\n"
          ]
        },
        {
          "output_type": "stream",
          "name": "stdout",
          "text": [
            " ARIMA(0,1,1)(0,0,0)[0] intercept   : AIC=26378.313, Time=0.66 sec\n",
            " ARIMA(0,1,0)(0,0,0)[0]             : AIC=26452.697, Time=0.10 sec\n"
          ]
        },
        {
          "output_type": "stream",
          "name": "stderr",
          "text": [
            "/usr/local/lib/python3.11/dist-packages/sklearn/utils/deprecation.py:151: FutureWarning: 'force_all_finite' was renamed to 'ensure_all_finite' in 1.6 and will be removed in 1.8.\n",
            "  warnings.warn(\n",
            "/usr/local/lib/python3.11/dist-packages/sklearn/utils/deprecation.py:151: FutureWarning: 'force_all_finite' was renamed to 'ensure_all_finite' in 1.6 and will be removed in 1.8.\n",
            "  warnings.warn(\n"
          ]
        },
        {
          "output_type": "stream",
          "name": "stdout",
          "text": [
            " ARIMA(1,1,2)(0,0,0)[0] intercept   : AIC=26325.076, Time=1.57 sec\n"
          ]
        },
        {
          "output_type": "stream",
          "name": "stderr",
          "text": [
            "/usr/local/lib/python3.11/dist-packages/sklearn/utils/deprecation.py:151: FutureWarning: 'force_all_finite' was renamed to 'ensure_all_finite' in 1.6 and will be removed in 1.8.\n",
            "  warnings.warn(\n"
          ]
        },
        {
          "output_type": "stream",
          "name": "stdout",
          "text": [
            " ARIMA(2,1,1)(0,0,0)[0] intercept   : AIC=26332.011, Time=1.39 sec\n"
          ]
        },
        {
          "output_type": "stream",
          "name": "stderr",
          "text": [
            "/usr/local/lib/python3.11/dist-packages/sklearn/utils/deprecation.py:151: FutureWarning: 'force_all_finite' was renamed to 'ensure_all_finite' in 1.6 and will be removed in 1.8.\n",
            "  warnings.warn(\n"
          ]
        },
        {
          "output_type": "stream",
          "name": "stdout",
          "text": [
            " ARIMA(3,1,2)(0,0,0)[0] intercept   : AIC=26210.214, Time=5.49 sec\n"
          ]
        },
        {
          "output_type": "stream",
          "name": "stderr",
          "text": [
            "/usr/local/lib/python3.11/dist-packages/sklearn/utils/deprecation.py:151: FutureWarning: 'force_all_finite' was renamed to 'ensure_all_finite' in 1.6 and will be removed in 1.8.\n",
            "  warnings.warn(\n"
          ]
        },
        {
          "output_type": "stream",
          "name": "stdout",
          "text": [
            " ARIMA(3,1,1)(0,0,0)[0] intercept   : AIC=26252.462, Time=3.35 sec\n"
          ]
        },
        {
          "output_type": "stream",
          "name": "stderr",
          "text": [
            "/usr/local/lib/python3.11/dist-packages/sklearn/utils/deprecation.py:151: FutureWarning: 'force_all_finite' was renamed to 'ensure_all_finite' in 1.6 and will be removed in 1.8.\n",
            "  warnings.warn(\n"
          ]
        },
        {
          "output_type": "stream",
          "name": "stdout",
          "text": [
            " ARIMA(4,1,2)(0,0,0)[0] intercept   : AIC=26246.580, Time=7.79 sec\n"
          ]
        },
        {
          "output_type": "stream",
          "name": "stderr",
          "text": [
            "/usr/local/lib/python3.11/dist-packages/sklearn/utils/deprecation.py:151: FutureWarning: 'force_all_finite' was renamed to 'ensure_all_finite' in 1.6 and will be removed in 1.8.\n",
            "  warnings.warn(\n"
          ]
        },
        {
          "output_type": "stream",
          "name": "stdout",
          "text": [
            " ARIMA(3,1,3)(0,0,0)[0] intercept   : AIC=26311.611, Time=6.56 sec\n"
          ]
        },
        {
          "output_type": "stream",
          "name": "stderr",
          "text": [
            "/usr/local/lib/python3.11/dist-packages/sklearn/utils/deprecation.py:151: FutureWarning: 'force_all_finite' was renamed to 'ensure_all_finite' in 1.6 and will be removed in 1.8.\n",
            "  warnings.warn(\n"
          ]
        },
        {
          "output_type": "stream",
          "name": "stdout",
          "text": [
            " ARIMA(2,1,3)(0,0,0)[0] intercept   : AIC=26317.937, Time=5.92 sec\n"
          ]
        },
        {
          "output_type": "stream",
          "name": "stderr",
          "text": [
            "/usr/local/lib/python3.11/dist-packages/sklearn/utils/deprecation.py:151: FutureWarning: 'force_all_finite' was renamed to 'ensure_all_finite' in 1.6 and will be removed in 1.8.\n",
            "  warnings.warn(\n"
          ]
        },
        {
          "output_type": "stream",
          "name": "stdout",
          "text": [
            " ARIMA(4,1,1)(0,0,0)[0] intercept   : AIC=26243.377, Time=5.34 sec\n"
          ]
        },
        {
          "output_type": "stream",
          "name": "stderr",
          "text": [
            "/usr/local/lib/python3.11/dist-packages/sklearn/utils/deprecation.py:151: FutureWarning: 'force_all_finite' was renamed to 'ensure_all_finite' in 1.6 and will be removed in 1.8.\n",
            "  warnings.warn(\n"
          ]
        },
        {
          "output_type": "stream",
          "name": "stdout",
          "text": [
            " ARIMA(4,1,3)(0,0,0)[0] intercept   : AIC=26213.972, Time=8.71 sec\n"
          ]
        },
        {
          "output_type": "stream",
          "name": "stderr",
          "text": [
            "/usr/local/lib/python3.11/dist-packages/sklearn/utils/deprecation.py:151: FutureWarning: 'force_all_finite' was renamed to 'ensure_all_finite' in 1.6 and will be removed in 1.8.\n",
            "  warnings.warn(\n"
          ]
        },
        {
          "output_type": "stream",
          "name": "stdout",
          "text": [
            " ARIMA(3,1,2)(0,0,0)[0]             : AIC=26213.186, Time=1.34 sec\n",
            "\n",
            "Best model:  ARIMA(3,1,2)(0,0,0)[0] intercept\n",
            "Total fit time: 51.732 seconds\n",
            "Validation RMSE: 405.52\n"
          ]
        },
        {
          "output_type": "stream",
          "name": "stderr",
          "text": [
            "/usr/local/lib/python3.11/dist-packages/sklearn/utils/deprecation.py:151: FutureWarning: 'force_all_finite' was renamed to 'ensure_all_finite' in 1.6 and will be removed in 1.8.\n",
            "  warnings.warn(\n",
            "/usr/local/lib/python3.11/dist-packages/sklearn/utils/deprecation.py:151: FutureWarning: 'force_all_finite' was renamed to 'ensure_all_finite' in 1.6 and will be removed in 1.8.\n",
            "  warnings.warn(\n"
          ]
        },
        {
          "output_type": "stream",
          "name": "stdout",
          "text": [
            "S&P 500 model has been successfully trained\n"
          ]
        }
      ]
    },
    {
      "cell_type": "code",
      "source": [
        "prediction_ticker = \"AAPL\"\n",
        "\n",
        "_, ticker_data, _, _ = fetch_stock_data(prediction_ticker)\n",
        "\n",
        "print(f\"\\nGenerating predictions for {prediction_ticker} using S&P 500 model...\")\n",
        "predictions, dates = predict_next_12_months(sp500_model, ticker_data, prediction_ticker)\n",
        "\n",
        "print(f\"\\nPredicted prices for {prediction_ticker}:\")\n",
        "for i in range(len(predictions)):\n",
        "    print(f\"price {predictions[i]:.2f} at date {dates[i]}\")"
      ],
      "metadata": {
        "colab": {
          "base_uri": "https://localhost:8080/"
        },
        "id": "aehUG1ePqvld",
        "outputId": "45969f89-37a0-4ac1-fc5e-1775ad62edd2"
      },
      "execution_count": 16,
      "outputs": [
        {
          "output_type": "stream",
          "name": "stderr",
          "text": [
            "\r[*********************100%***********************]  1 of 1 completed"
          ]
        },
        {
          "output_type": "stream",
          "name": "stdout",
          "text": [
            "\n",
            "Generating predictions for AAPL using S&P 500 model...\n",
            "\n",
            "Predicted prices for AAPL:\n",
            "price 3887.67 at date 2023-01-31 00:00:00\n",
            "price 3896.05 at date 2023-02-28 00:00:00\n",
            "price 3828.82 at date 2023-03-31 00:00:00\n",
            "price 3915.34 at date 2023-04-30 00:00:00\n",
            "price 3924.94 at date 2023-05-31 00:00:00\n",
            "price 3934.53 at date 2023-06-30 00:00:00\n",
            "price 3865.60 at date 2023-07-31 00:00:00\n",
            "price 3953.72 at date 2023-08-31 00:00:00\n",
            "price 3884.41 at date 2023-09-30 00:00:00\n",
            "price 3893.82 at date 2023-10-31 00:00:00\n",
            "price 3903.22 at date 2023-11-30 00:00:00\n"
          ]
        },
        {
          "output_type": "stream",
          "name": "stderr",
          "text": [
            "\n",
            "/usr/local/lib/python3.11/dist-packages/sklearn/utils/deprecation.py:151: FutureWarning: 'force_all_finite' was renamed to 'ensure_all_finite' in 1.6 and will be removed in 1.8.\n",
            "  warnings.warn(\n"
          ]
        }
      ]
    },
    {
      "cell_type": "code",
      "source": [
        "sentiment_score = 0.5\n",
        "print(f\"\\nAdjusting {prediction_ticker} predictions with sentiment score {sentiment_score}...\")\n",
        "adj_predictions = adjust_predictions_with_sentiment(predictions, sentiment_score)\n",
        "\n",
        "print(f\"\\nSentiment-adjusted prices for {prediction_ticker}:\")\n",
        "for i in range(len(adj_predictions)):\n",
        "    print(f\"price {adj_predictions[i]:.2f} at date {dates[i]}\")"
      ],
      "metadata": {
        "colab": {
          "base_uri": "https://localhost:8080/"
        },
        "id": "VxE9rG89vnqF",
        "outputId": "2ad953eb-0be7-49ab-f93c-f8a18c027b3c"
      },
      "execution_count": 17,
      "outputs": [
        {
          "output_type": "stream",
          "name": "stdout",
          "text": [
            "\n",
            "Adjusting AAPL predictions with sentiment score 0.5...\n",
            "\n",
            "Sentiment-adjusted prices for AAPL:\n",
            "price 4178.22 at date 2023-01-31 00:00:00\n",
            "price 4070.75 at date 2023-02-28 00:00:00\n",
            "price 3931.83 at date 2023-03-31 00:00:00\n",
            "price 3978.54 at date 2023-04-30 00:00:00\n",
            "price 3962.95 at date 2023-05-31 00:00:00\n",
            "price 3957.40 at date 2023-06-30 00:00:00\n",
            "price 3879.08 at date 2023-07-31 00:00:00\n",
            "price 3962.00 at date 2023-08-31 00:00:00\n",
            "price 3889.29 at date 2023-09-30 00:00:00\n",
            "price 3896.75 at date 2023-10-31 00:00:00\n",
            "price 3904.99 at date 2023-11-30 00:00:00\n"
          ]
        }
      ]
    },
    {
      "cell_type": "code",
      "source": [],
      "metadata": {
        "id": "d4YjxTyZvuq4"
      },
      "execution_count": null,
      "outputs": []
    }
  ]
}